{
 "cells": [
  {
   "cell_type": "code",
   "execution_count": null,
   "id": "106833cb",
   "metadata": {},
   "outputs": [],
   "source": [
    "!pip install openpyxl requests pandas -q"
   ]
  },
  {
   "cell_type": "code",
   "execution_count": 34,
   "id": "b371fd05",
   "metadata": {},
   "outputs": [
    {
     "name": "stdout",
     "output_type": "stream",
     "text": [
      "Fetching cryptocurrency data...\n",
      "Fetching details for Bitcoin...\n",
      "Fetching details for Ethereum...\n",
      "Fetching details for Tether...\n",
      "Fetching details for XRP...\n",
      "Fetching details for BNB...\n",
      "Fetching details for Solana...\n",
      "Fetching details for USDC...\n",
      "Fetching details for Lido Staked Ether...\n",
      "Fetching details for Dogecoin...\n",
      "Fetching details for TRON...\n",
      "Fetching details for Cardano...\n",
      "Fetching details for Wrapped stETH...\n",
      "Fetching details for Chainlink...\n",
      "Fetching details for Wrapped Beacon ETH...\n",
      "Fetching details for Wrapped Bitcoin...\n",
      "Fetching details for Ethena USDe...\n",
      "Fetching details for Hyperliquid...\n",
      "Fetching details for Figure Heloc...\n",
      "Fetching details for Bitcoin Cash...\n",
      "Fetching details for Sui...\n",
      "Fetching details for Wrapped eETH...\n",
      "Fetching details for Stellar...\n",
      "Fetching details for Avalanche...\n",
      "Fetching details for WETH...\n",
      "Fetching details for Hedera...\n",
      "Fetching details for Cronos...\n",
      "Fetching details for LEO Token...\n",
      "Fetching details for Litecoin...\n",
      "Fetching details for USDS...\n",
      "Fetching details for Toncoin...\n",
      "Fetching details for Shiba Inu...\n",
      "Fetching details for Binance Bridged USDT (BNB Smart Chain)...\n",
      "Fetching details for WhiteBIT Coin...\n",
      "Fetching details for Coinbase Wrapped BTC...\n",
      "Fetching details for Polkadot...\n",
      "Fetching details for Ethena Staked USDe...\n",
      "Fetching details for Uniswap...\n",
      "Fetching details for Ethena...\n",
      "Fetching details for World Liberty Financial...\n",
      "Fetching details for Monero...\n",
      "Fetching details for Aave...\n",
      "Fetching details for Dai...\n",
      "Fetching details for Bitget Token...\n",
      "Fetching details for Pepe...\n",
      "Fetching details for OKB...\n",
      "Fetching details for Mantle...\n",
      "Fetching details for Ethereum Classic...\n",
      "Fetching details for Bittensor...\n",
      "Fetching details for Jito Staked SOL...\n",
      "Fetching details for NEAR Protocol...\n",
      "Fetching details for POL (ex-MATIC)...\n",
      "Fetching details for Aptos...\n",
      "Fetching details for Ondo...\n",
      "Fetching details for USDT0...\n",
      "Fetching details for Pi Network...\n",
      "Fetching details for MemeCore...\n",
      "Fetching details for USD1...\n",
      "Fetching details for Binance-Peg WETH...\n",
      "Fetching details for Arbitrum...\n",
      "Fetching details for Internet Computer...\n",
      "Fetching details for Story...\n",
      "Fetching details for Binance Staked SOL...\n",
      "Fetching details for BlackRock USD Institutional Digital Liquidity Fund...\n",
      "Fetching details for Kaspa...\n",
      "Fetching details for Cosmos Hub...\n",
      "Fetching details for sUSDS...\n",
      "Fetching details for Jupiter Perpetuals Liquidity Provider Token...\n",
      "Fetching details for VeChain...\n",
      "Fetching details for Gate...\n",
      "Fetching details for Algorand...\n",
      "Fetching details for Rocket Pool ETH...\n",
      "Fetching details for Fasttoken...\n",
      "Fetching details for Worldcoin...\n",
      "Fetching details for KuCoin...\n",
      "Fetching details for Pudgy Penguins...\n",
      "Fetching details for Kinetiq Staked HYPE...\n",
      "Fetching details for Kelp DAO Restaked ETH...\n",
      "Fetching details for Render...\n",
      "Fetching details for Pump.fun...\n",
      "Fetching details for Sei...\n",
      "Fetching details for Sky...\n",
      "Fetching details for BFUSD...\n",
      "Fetching details for Official Trump...\n",
      "Fetching details for Falcon USD...\n",
      "Fetching details for StakeWise Staked ETH...\n",
      "Fetching details for USDtb...\n",
      "Fetching details for Filecoin...\n",
      "Fetching details for Artificial Superintelligence Alliance...\n",
      "Fetching details for Liquid Staked ETH...\n",
      "Fetching details for Jupiter...\n",
      "Fetching details for Bonk...\n",
      "Fetching details for Lombard Staked BTC...\n",
      "Fetching details for Flare...\n",
      "Fetching details for Quant...\n",
      "Fetching details for Polygon Bridged USDT (Polygon)...\n",
      "Fetching details for XDC Network...\n",
      "Fetching details for Renzo Restaked ETH...\n",
      "Fetching details for Four...\n",
      "Fetching details for Provenance Blockchain...\n",
      "Fetching details for Tether Gold...\n",
      "Tạo mới file 'top_100_cryptos_data.xlsx' thành công\n",
      "\n",
      "Successfully created 'top_100_cryptos_data.xlsx' with data for the top 100 coins.\n"
     ]
    }
   ],
   "source": [
    "import requests\n",
    "import pandas as pd\n",
    "from datetime import datetime\n",
    "import os\n",
    "def get_crypto_data():\n",
    "    \"\"\"Fetches data for the top 100 cryptocurrencies by market cap.\"\"\"\n",
    "    url = \"https://api.coingecko.com/api/v3/coins/markets\"\n",
    "    params = {\n",
    "        \"vs_currency\": \"usd\",\n",
    "        \"order\": \"market_cap_desc\",\n",
    "        \"per_page\": 100,\n",
    "        \"page\": 1,\n",
    "        \"sparkline\": False\n",
    "    }\n",
    "    \n",
    "    try:\n",
    "        response = requests.get(url, params=params)\n",
    "        response.raise_for_status()  # Raise an exception for bad status codes (4xx or 5xx)\n",
    "        data = response.json()\n",
    "        return data\n",
    "    except requests.exceptions.RequestException as e:\n",
    "        print(f\"Error fetching data: {e}\")\n",
    "        return None\n",
    "\n",
    "def create_excel_file():\n",
    "    \"\"\"Collects and exports data to a CSV file.\"\"\"\n",
    "    print(\"Fetching cryptocurrency data...\")\n",
    "    coins_data = get_crypto_data()\n",
    "    \n",
    "    if coins_data is None:\n",
    "        return\n",
    "\n",
    "    data_list = []\n",
    "    for coin in coins_data:\n",
    "        coin_name = coin.get('name')\n",
    "        \n",
    "        # Fetch detailed data for each coin to get the genesis date\n",
    "        print(f\"Fetching details for {coin_name}...\")\n",
    "        # genesis_date = get_coin_genesis_date(coin_id)\n",
    "        data_list.append({\n",
    "            \"Name\": coin_name,\n",
    "            \"Total Volume (USD)\": coin.get('total_volume'),\n",
    "            \"Date Time\": datetime.now().strftime(\"%Y-%m-%d %H:%M:%S\"),                                       \n",
    "            # \"Genesis Date\": genesis_date\n",
    "        })\n",
    "\n",
    "\n",
    "    # Create a DataFrame from the collected data\n",
    "    df = pd.DataFrame(data_list)\n",
    "    # Tên file Excel\n",
    "    \n",
    "    file_name = \"top_100_cryptos_data.xlsx\"\n",
    "\n",
    "    if not os.path.exists(file_name):\n",
    "        # Nếu file chưa tồn tại thì tạo mới\n",
    "        df.to_excel(file_name, index=False, sheet_name=\"Sheet1\")\n",
    "        print(f\"Tạo mới file '{file_name}' thành công\")\n",
    "    else:\n",
    "        # Nếu đã có file thì append thêm\n",
    "        with pd.ExcelWriter(file_name, mode=\"a\", engine=\"openpyxl\", if_sheet_exists=\"overlay\") as writer:\n",
    "            df.to_excel(writer, index=False, header=False, startrow=writer.sheets['Sheet1'].max_row)\n",
    "        print(f\"Đã append thêm dữ liệu vào '{file_name}'\")\n",
    "\n",
    "    \n",
    "    print(f\"\\nSuccessfully created '{file_name}' with data for the top 100 coins.\")\n",
    "\n",
    "# Run the function\n",
    "create_excel_file()"
   ]
  },
  {
   "cell_type": "code",
   "execution_count": 8,
   "id": "34224348",
   "metadata": {},
   "outputs": [
    {
     "data": {
      "text/plain": [
       "100"
      ]
     },
     "execution_count": 8,
     "metadata": {},
     "output_type": "execute_result"
    }
   ],
   "source": [
    "len(get_crypto_data())"
   ]
  },
  {
   "cell_type": "code",
   "execution_count": 14,
   "id": "69a063c4",
   "metadata": {},
   "outputs": [
    {
     "data": {
      "text/plain": [
       "'2009-01-03'"
      ]
     },
     "execution_count": 14,
     "metadata": {},
     "output_type": "execute_result"
    }
   ],
   "source": [
    "get_coin_genesis_date('bitcoin')"
   ]
  },
  {
   "cell_type": "code",
   "execution_count": 16,
   "id": "66a48015",
   "metadata": {},
   "outputs": [
    {
     "data": {
      "text/plain": [
       "{'id': 'bitcoin',\n",
       " 'symbol': 'btc',\n",
       " 'name': 'Bitcoin',\n",
       " 'image': 'https://coin-images.coingecko.com/coins/images/1/large/bitcoin.png?1696501400',\n",
       " 'current_price': 110803,\n",
       " 'market_cap': 2206897981817,\n",
       " 'market_cap_rank': 1,\n",
       " 'fully_diluted_valuation': 2206897981817,\n",
       " 'total_volume': 47507744874,\n",
       " 'high_24h': 113225,\n",
       " 'low_24h': 110339,\n",
       " 'price_change_24h': -1996.3972254120308,\n",
       " 'price_change_percentage_24h': -1.76986,\n",
       " 'market_cap_change_24h': -39957325367.69922,\n",
       " 'market_cap_change_percentage_24h': -1.77837,\n",
       " 'circulating_supply': 19916843.0,\n",
       " 'total_supply': 19916843.0,\n",
       " 'max_supply': 21000000.0,\n",
       " 'ath': 124128,\n",
       " 'ath_change_percentage': -10.72215,\n",
       " 'ath_date': '2025-08-14T00:37:02.582Z',\n",
       " 'atl': 67.81,\n",
       " 'atl_change_percentage': 163327.93995,\n",
       " 'atl_date': '2013-07-06T00:00:00.000Z',\n",
       " 'roi': None,\n",
       " 'last_updated': '2025-09-06T08:15:38.945Z'}"
      ]
     },
     "execution_count": 16,
     "metadata": {},
     "output_type": "execute_result"
    }
   ],
   "source": [
    "get_crypto_data()[0]"
   ]
  },
  {
   "cell_type": "code",
   "execution_count": null,
   "id": "b74a4ade",
   "metadata": {},
   "outputs": [],
   "source": [
    "import requests\n",
    "import pandas as pd\n",
    "\n",
    "# Gọi API\n",
    "url = \"https://api.coingecko.com/api/v3/coins/bitcoin\"\n",
    "resp = requests.get(url)\n",
    "resp_json = resp.json()\n",
    "resp_json"
   ]
  },
  {
   "cell_type": "code",
   "execution_count": null,
   "id": "93d02127",
   "metadata": {},
   "outputs": [],
   "source": []
  },
  {
   "cell_type": "code",
   "execution_count": null,
   "metadata": {},
   "outputs": [],
   "source": []
  },
  {
   "cell_type": "code",
   "execution_count": null,
   "metadata": {},
   "outputs": [],
   "source": []
  }
 ],
 "metadata": {
  "kernelspec": {
   "display_name": "rag-medical-app",
   "language": "python",
   "name": "python3"
  },
  "language_info": {
   "codemirror_mode": {
    "name": "ipython",
    "version": 3
   },
   "file_extension": ".py",
   "mimetype": "text/x-python",
   "name": "python",
   "nbconvert_exporter": "python",
   "pygments_lexer": "ipython3",
   "version": "3.11.9"
  }
 },
 "nbformat": 4,
 "nbformat_minor": 5
}
